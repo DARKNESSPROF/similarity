{
 "cells": [
  {
   "cell_type": "code",
   "execution_count": 71,
   "id": "80b7df32",
   "metadata": {},
   "outputs": [],
   "source": [
    "contractions_mapping = {\n",
    "    \"ain't\": [\"am\", \"not\"],\n",
    "    \"aren't\": [\"are\", \"not\"],\n",
    "    \"can't\": [\"can\", \"not\"],\n",
    "    \"can't've\": [\"cannot\", \"have\"],\n",
    "    \"'cause\": [\"because\"],\n",
    "    \"could've\": [\"could\", \"have\"],\n",
    "    \"couldn't\": [\"could\", \"not\"],\n",
    "    \"couldn't've\": [\"could\", \"not\", \"have\"],\n",
    "    \"didn't\": [\"did\", \"not\"],\n",
    "    \"doesn't\": [\"does\", \"not\"],\n",
    "    \"don't\": [\"do\", \"not\"],\n",
    "    \"hadn't\": [\"had\", \"not\"],\n",
    "    \"hadn't've\": [\"had\", \"not\", \"have\"],\n",
    "    \"hasn't\": [\"has\", \"not\"],\n",
    "    \"haven't\": [\"have\", \"not\"],\n",
    "    \"he'd\": [\"he\", \"would\"],\n",
    "    \"he'd've\": [\"he\", \"would\", \"have\"],\n",
    "    \"he'll\": [\"he\", \"will\"],\n",
    "    \"he'll've\": [\"he\", \"will\", \"have\"],\n",
    "    \"he's\": [\"he\", \"is\"],\n",
    "    \"how'd\": [\"how\", \"did\"],\n",
    "    \"how'd'y\": [\"how\", \"do\", \"you\"],\n",
    "    \"how'll\": [\"how\", \"will\"],\n",
    "    \"how's\": [\"how\", \"is\"],\n",
    "    \"i'd\": [\"i\", \"would\"],\n",
    "    \"i'd've\": [\"i\", \"would\", \"have\"],\n",
    "    \"i'll\": [\"i\", \"will\"],\n",
    "    \"i'll've\": [\"i\", \"will\", \"have\"],\n",
    "    \"i'm\": [\"i\", \"am\"],\n",
    "    \"i've\": [\"i\", \"have\"],\n",
    "    \"isn't\": [\"is\", \"not\"],\n",
    "    \"it'd\": [\"it\", \"would\"],\n",
    "    \"it'd've\": [\"it\", \"would\", \"have\"],\n",
    "    \"it'll\": [\"it\", \"will\"],\n",
    "    \"it'll've\": [\"it\", \"will\", \"have\"],\n",
    "    \"it's\": [\"it\", \"is\"],\n",
    "    \"let's\": [\"let\", \"us\"],\n",
    "    \"ma'am\": [\"madam\"],\n",
    "    \"mayn't\": [\"may\", \"not\"],\n",
    "    \"might've\": [\"might\", \"have\"],\n",
    "    \"mightn't\": [\"might\", \"not\"],\n",
    "    \"mightn't've\": [\"might\", \"not\", \"have\"],\n",
    "    \"must've\": [\"must\", \"have\"],\n",
    "    \"mustn't\": [\"must\", \"not\"],\n",
    "    \"mustn't've\": [\"must\", \"not\", \"have\"],\n",
    "    \"needn't\": [\"need\", \"not\"],\n",
    "    \"needn't've\": [\"need\", \"not\", \"have\"],\n",
    "    \"o'clock\": [\"of\", \"the\", \"clock\"],\n",
    "    \"oughtn't\": [\"ought\", \"not\"],\n",
    "    \"oughtn't've\": [\"ought\", \"not\", \"have\"],\n",
    "    \"shan't\": [\"shall\", \"not\"],\n",
    "    \"sha'n't\": [\"shall\", \"not\"],\n",
    "    \"shan't've\": [\"shall\", \"not\", \"have\"],\n",
    "    \"she'd\": [\"she\", \"would\"],\n",
    "    \"she'd've\": [\"she\", \"would\", \"have\"],\n",
    "    \"she'll\": [\"she\", \"will\"],\n",
    "    \"she'll've\": [\"she\", \"will\", \"have\"],\n",
    "    \"she's\": [\"she\", \"is\"],\n",
    "    \"should_ve\": [\"should\", \"have\"],\n",
    "    \"should've\": [\"should\", \"have\"],\n",
    "    \"shouldn't\": [\"should\", \"not\"],\n",
    "    \"shouldn't've\": [\"should\", \"not\", ],\n",
    "    \"shouldn't_ve\": [\"should\", \"not\", \"have\"],\n",
    "    \"so've\": [\"so\", \"have\"],\n",
    "    \"so's\": [\"so\", \"is\"],\n",
    "    \"that'd\": [\"that\", \"would\"],\n",
    "    \"that'd've\": [\"that\", \"would\", \"have\"],\n",
    "    \"that's\": [\"that\", \"is\"],\n",
    "    \"there'd\": [\"there\", \"would\"],\n",
    "    \"there'd've\": [\"there\", \"would\", \"have\"],\n",
    "    \"there's\": [\"there\", \"is\"],\n",
    "    \"they'd\": [\"they\", \"would\"],\n",
    "    \"they'd've\": [\"they\", \"would\", \"have\"],\n",
    "    \"they'll\": [\"they\", \"will\"],\n",
    "    \"they'll've\": [\"they\", \"will\", \"have\"],\n",
    "    \"they're\": [\"they\", \"are\"],\n",
    "    \"they've\": [\"they\", \"have\"],\n",
    "    \"to've\": [\"to\", \"have\"],\n",
    "    \"wasn't\": [\"was\", \"not\"],\n",
    "    \"we'd\": [\"we\", \"would\"],\n",
    "    \"we'd've\": [\"we\", \"would\", \"have\"],\n",
    "    \"we'll\": [\"we\", \"will\"],\n",
    "    \"we'll've\": [\"we\", \"will\", \"have\"],\n",
    "    \"we're\": [\"we\", \"are\"],\n",
    "    \"we've\": [\"we\", \"have\"],\n",
    "    \"weren't\": [\"were\", \"not\"],\n",
    "    \"what'll\": [\"what\", \"will\"],\n",
    "    \"what'll've\": [\"what\", \"will\", \"have\"],\n",
    "    \"what're\": [\"what\", \"are\"],\n",
    "    \"what's\": [\"what\", \"is\"],\n",
    "    \"what've\": [\"what\", \"have\"],\n",
    "    \"when's\": [\"when\", \"is\"],\n",
    "    \"when've\": [\"when\", \"have\"],\n",
    "    \"where'd\": [\"where\", \"did\"],\n",
    "    \"where's\": [\"where\", \"is\"],\n",
    "    \"where've\": [\"where\", \"have\"],\n",
    "    \"who'll\": [\"who\", \"will\"],\n",
    "    \"who'll've\": [\"who\", \"will\", \"have\"],\n",
    "    \"who's\": [\"who\", \"is\"],\n",
    "    \"who've\": [\"who\", \"have\"],\n",
    "    \"why's\": [\"why\", \"is\"],\n",
    "    \"why've\": [\"why\", \"have\"],\n",
    "    \"will've\": [\"will\", \"have\"],\n",
    "    \"won't\": [\"will\", \"not\"],\n",
    "    \"won't've\": [\"will\", \"not\", \"have\"],\n",
    "    \"would've\": [\"would\", \"have\"],\n",
    "    \"wouldn't\": [\"would\", \"not\"],\n",
    "    \"wouldn't've\": [\"would\", \"not\", \"have\"],\n",
    "    \"y'all\": [\"you\", \"all\"],\n",
    "    \"y'all'd\": [\"you\", \"all\", \"would\"],\n",
    "    \"y'all'd've\": [\"you\", \"all\", \"would\", \"have\"],\n",
    "    \"y'all're\": [\"you\", \"all\", \"are\"],\n",
    "    \"y'all've\": [\"you\", \"all\", \"have\"],\n",
    "    \"you'd\": [\"you\", \"would\"],\n",
    "    \"you'd've\": [\"you\", \"would\", \"have\"],\n",
    "    \"you'll\": [\"you\", \"will\"],\n",
    "    \"you'll've\": [\"you\", \"will\", \"have\"],\n",
    "    \"you're\": [\"you\", \"are\"],\n",
    "    \"you've\": [\"you\", \"have\"],\n",
    "}\n",
    "def expand_contractions(text):\n",
    "    expanded_text = []\n",
    "    \n",
    "    words = text.split() \n",
    "\n",
    "    for word in words:\n",
    "        if word in contractions_mapping:\n",
    "            expanded_text.extend(contractions_mapping[word])\n",
    "        else:\n",
    "            expanded_text.append(word)\n",
    "    return \" \".join(expanded_text)"
   ]
  },
  {
   "cell_type": "code",
   "execution_count": 72,
   "id": "f94b74e5",
   "metadata": {},
   "outputs": [],
   "source": [
    "import re\n",
    "def remove_punctuations(text):\n",
    "    pattern = r'[.,!?:;\\-_()\\[\\]{}\"\\`~@#$%^&*=+|\\\\/<>‘]'\n",
    "    return re.sub(pattern, '', text)"
   ]
  },
  {
   "cell_type": "code",
   "execution_count": 73,
   "id": "0ba65b62",
   "metadata": {},
   "outputs": [],
   "source": [
    "stop_words = {\n",
    "    'i', 'me', 'my', 'myself', 'we', 'our', 'ours', 'ourselves', 'you', 'your',\n",
    "    'yours', 'yourself', 'yourselves', 'he', 'him', 'his', 'himself', 'she', 'her',\n",
    "    'hers', 'herself', 'it', 'its', 'itself', 'they', 'them', 'their', 'theirs',\n",
    "    'themselves', 'what', 'which', 'who', 'whom', 'this', 'that', 'these', 'those',\n",
    "    'am', 'is', 'are', 'was', 'were', 'be', 'been', 'being', 'have', 'has', 'had',\n",
    "    'having', 'do', 'does', 'did', 'doing', 'a', 'an', 'the', 'and', 'but', 'if',\n",
    "    'or', 'because', 'as', 'until', 'while', 'of', 'at', 'by', 'for', 'with',\n",
    "    'about', 'against', 'between', 'into', 'through', 'during', 'before', 'after',\n",
    "    'above', 'below', 'to', 'from', 'up', 'down', 'in', 'out', 'on', 'off', 'over',\n",
    "    'under', 'again', 'further', 'then', 'once', 'here', 'there', 'when', 'where',\n",
    "    'why', 'how', 'all', 'any', 'both', 'each', 'few', 'more', 'most', 'other',\n",
    "    'some', 'such', 'no', 'nor', 'not', 'only', 'own', 'same', 'so', 'than', 'too',\n",
    "    'very', 'can', 'will', 'just', 'don', 'should', 'now'\n",
    "}\n",
    "def remove_stopwords(text):\n",
    "    words = text.split()\n",
    "    filtered_words = [word for word in words if word not in stop_words]\n",
    "    return \" \".join(filtered_words)"
   ]
  },
  {
   "cell_type": "code",
   "execution_count": 74,
   "id": "a9ec2274",
   "metadata": {},
   "outputs": [],
   "source": [
    "def Text_Processing(text):\n",
    "    text = text if isinstance(text, str) else str(text)\n",
    "    processedText = text.lower()\n",
    "    processedText = expand_contractions(processedText)\n",
    "    processedText = remove_punctuations(processedText)\n",
    "    processedText = remove_stopwords(processedText)\n",
    "    return processedText"
   ]
  },
  {
   "cell_type": "code",
   "execution_count": 88,
   "id": "d341c182",
   "metadata": {},
   "outputs": [],
   "source": [
    "import re\n",
    "def remove_uncommon_chars_samples(df, col_list):\n",
    "    allowed_pattern = re.compile(r'^[a-z0-9\\s]*$') \n",
    "    def is_alphanum(text):\n",
    "        return bool(allowed_pattern.match(text))\n",
    "\n",
    "    mask = df[col_list].map(is_alphanum).all(axis=1)\n",
    "    return df[mask].reset_index(drop=True)\n",
    "\n",
    "def filter_by_max_sentence_length(df, col_list, max_length):\n",
    "    def sentence_length(text):\n",
    "        return len(str(text).split())\n",
    "\n",
    "    mask = df[col_list].map(sentence_length).le(max_length).all(axis=1)\n",
    "    return df[mask].reset_index(drop=True)"
   ]
  },
  {
   "cell_type": "code",
   "execution_count": 91,
   "id": "71744dcf",
   "metadata": {},
   "outputs": [
    {
     "data": {
      "text/plain": [
       "97394"
      ]
     },
     "execution_count": 91,
     "metadata": {},
     "output_type": "execute_result"
    }
   ],
   "source": [
    "import pandas as pd\n",
    "\n",
    "\n",
    "dataset = pd.read_csv(\"Semantic Search Engine.csv\")\n",
    "\n",
    "processed_dataset = pd.DataFrame({\n",
    "    \"question1\": dataset[\"question1\"].apply(Text_Processing),\n",
    "    \"question2\": dataset[\"question2\"].apply(Text_Processing),\n",
    "    \"is_duplicate\": dataset[\"is_duplicate\"]\n",
    "})\n",
    "\n",
    "processed_dataset = remove_uncommon_chars_samples(processed_dataset, [\"question1\", \"question2\"])\n",
    "\n",
    "processed_dataset = filter_by_max_sentence_length(dataset, [\"question1\", \"question2\"], 8);\n",
    "\n",
    "#processed_dataset.to_csv(\"processed_dataset.csv\", index=False)\n",
    "len(processed_dataset)"
   ]
  },
  {
   "cell_type": "code",
   "execution_count": 77,
   "id": "be3c5483",
   "metadata": {},
   "outputs": [],
   "source": [
    "def build_vocabulary(dataset):\n",
    "    index = 0\n",
    "    vocab = {}\n",
    "    for sentence in dataset:\n",
    "        words = Text_Processing(sentence).split()\n",
    "        for word in words:\n",
    "            if word not in vocab:\n",
    "                vocab[word] = index\n",
    "                index += 1\n",
    "    return sorted(vocab)\n",
    "\n",
    "def sentence_to_bow_vector(sentence, word2idx):\n",
    "    vector = [0] * len(word2idx)\n",
    "    tokens = Text_Processing(sentence).split()\n",
    "    for token in tokens:\n",
    "        if token in word2idx:\n",
    "            index = word2idx[token]\n",
    "            vector[index] += 1\n",
    "    return vector"
   ]
  },
  {
   "cell_type": "code",
   "execution_count": 84,
   "id": "83902047",
   "metadata": {},
   "outputs": [
    {
     "data": {
      "text/plain": [
       "372480"
      ]
     },
     "execution_count": 84,
     "metadata": {},
     "output_type": "execute_result"
    }
   ],
   "source": [
    "import pandas as pd\n",
    "dataset = pd.read_csv('processed_dataset.csv')\n",
    "len(dataset)"
   ]
  },
  {
   "cell_type": "code",
   "execution_count": null,
   "id": "6e0a29ef",
   "metadata": {},
   "outputs": [
    {
     "name": "stderr",
     "output_type": "stream",
     "text": [
      "C:\\Users\\IBRAHIM_ALAHMAR\\AppData\\Local\\Temp\\ipykernel_2972\\3774535283.py:6: FutureWarning: DataFrame.applymap has been deprecated. Use DataFrame.map instead.\n",
      "  mask = df[col_list].applymap(sentence_length).le(max_length).all(axis=1)\n"
     ]
    },
    {
     "data": {
      "text/plain": [
       "332900"
      ]
     },
     "execution_count": 86,
     "metadata": {},
     "output_type": "execute_result"
    }
   ],
   "source": [
    "\n",
    "max_len = 10 \n",
    "\n",
    "filtered_dataset = filter_by_max_sentence_length(dataset, [\"question1\", \"question2\"], max_len)\n",
    "len(filtered_dataset)"
   ]
  }
 ],
 "metadata": {
  "kernelspec": {
   "display_name": "Python 3",
   "language": "python",
   "name": "python3"
  },
  "language_info": {
   "codemirror_mode": {
    "name": "ipython",
    "version": 3
   },
   "file_extension": ".py",
   "mimetype": "text/x-python",
   "name": "python",
   "nbconvert_exporter": "python",
   "pygments_lexer": "ipython3",
   "version": "3.13.4"
  }
 },
 "nbformat": 4,
 "nbformat_minor": 5
}
